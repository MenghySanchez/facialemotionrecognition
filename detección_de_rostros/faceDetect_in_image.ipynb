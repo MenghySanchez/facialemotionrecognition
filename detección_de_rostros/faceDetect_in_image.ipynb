{
 "cells": [
  {
   "cell_type": "code",
   "execution_count": 1,
   "id": "f8e223a5-d0c4-4d93-9f4b-c23f8ff6a120",
   "metadata": {},
   "outputs": [],
   "source": [
    "import cv2\n",
    "import numpy as np"
   ]
  },
  {
   "cell_type": "code",
   "execution_count": 2,
   "id": "7ea3b1d4-7843-44a1-a07c-060690a32c75",
   "metadata": {},
   "outputs": [],
   "source": [
    "faceClassif = cv2.CascadeClassifier('haarcascade_frontalface_default.xml')"
   ]
  },
  {
   "cell_type": "code",
   "execution_count": 3,
   "id": "1c4966e2-4fb9-4ea8-a70d-f96f415a0c3b",
   "metadata": {},
   "outputs": [],
   "source": [
    "image = cv2.imread('person.png')\n",
    "gray = cv2.cvtColor(image, cv2.COLOR_BGR2GRAY)"
   ]
  },
  {
   "cell_type": "code",
   "execution_count": 4,
   "id": "149923dc-65d4-4824-89fa-355b1569ccbc",
   "metadata": {},
   "outputs": [],
   "source": [
    "faces = faceClassif.detectMultiScale(gray,\n",
    "                                     scaleFactor=1.1, # que tanto se reduce la imagen .1 = 10%\n",
    "                                     minNeighbors=5,  # numero minimo de cuadros que deben tener los rostros para ser detectados\n",
    "                                     minSize=(30,30), # tamaño minimo del objeto , todo objeto con menor dimensión sera ignorado\n",
    "                                     maxSize=(200,200)) # al igual que el anterior, en este caso todo objeto superior al tamaño mencionado sera ignorado\n",
    "# es decir, en este punto , los rostros a buscar estaran entre en un tamaño minimo de 30 x 30 y un maximo de 200 x 200 px \n",
    "\n",
    "for (x,y,w,h) in faces:\n",
    "    cv2.rectangle(image,(x,y),(x+w,y+h),(0,255,0),2)"
   ]
  },
  {
   "cell_type": "code",
   "execution_count": null,
   "id": "d5d6f30f-cc76-45a2-bafe-70b961cec9f4",
   "metadata": {},
   "outputs": [],
   "source": [
    "cv2.imshow('image',image)\n",
    "cv2.waitKey(0)\n",
    "cv2.destroyAllWindows()"
   ]
  },
  {
   "cell_type": "code",
   "execution_count": null,
   "id": "da13765b-938b-4a98-a335-4bd026360f23",
   "metadata": {},
   "outputs": [],
   "source": []
  }
 ],
 "metadata": {
  "kernelspec": {
   "display_name": "Python 3 (ipykernel)",
   "language": "python",
   "name": "python3"
  },
  "language_info": {
   "codemirror_mode": {
    "name": "ipython",
    "version": 3
   },
   "file_extension": ".py",
   "mimetype": "text/x-python",
   "name": "python",
   "nbconvert_exporter": "python",
   "pygments_lexer": "ipython3",
   "version": "3.8.11"
  }
 },
 "nbformat": 4,
 "nbformat_minor": 5
}
