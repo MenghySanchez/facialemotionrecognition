{
 "cells": [
  {
   "cell_type": "code",
   "execution_count": 9,
   "id": "e22a7bb3-c0ff-4a0b-a0ce-0e43a88e7423",
   "metadata": {},
   "outputs": [],
   "source": [
    "import cv2\n",
    "import os"
   ]
  },
  {
   "cell_type": "code",
   "execution_count": 10,
   "id": "0ff9fc73-c274-4245-b82c-cc8b5f13122d",
   "metadata": {},
   "outputs": [
    {
     "name": "stdout",
     "output_type": "stream",
     "text": [
      "imagesPathList= ['p1.jpg', 'p2.jpg', 'p3.png']\n"
     ]
    }
   ],
   "source": [
    "imagesPath = \"./images/\"                                      #ruta del bnaco de images con multiples rostros\n",
    "imagesPathList = os.listdir(imagesPath)                       #listamos las imagesnes de la carpeta\n",
    "print('imagesPathList=', imagesPathList) "
   ]
  },
  {
   "cell_type": "code",
   "execution_count": 11,
   "id": "e1863aa4-a904-493c-890e-e24aa1baa8e3",
   "metadata": {},
   "outputs": [
    {
     "name": "stdout",
     "output_type": "stream",
     "text": [
      "Carpeta creada: face_detected\n"
     ]
    }
   ],
   "source": [
    "if os.path.exists('face_detected'):                          # con esto preguntamos si existe alguna carpeta llamada face_dectected\n",
    "    print('La carpeta ya existe')\n",
    "else:\n",
    "    print('Carpeta creada: face_detected')                   # en caso de no existir , la creara y en ella se alamaceran los rotros detectados\n",
    "    os.makedirs('face_detected')                             # creamos la carpeta"
   ]
  },
  {
   "cell_type": "code",
   "execution_count": 12,
   "id": "1ba8c164-c464-4994-bc1f-c9334bdd985c",
   "metadata": {},
   "outputs": [],
   "source": [
    "# cargamos el detector de rostros\n",
    "faceClassif = cv2.CascadeClassifier('haarcascade_frontalface_default.xml') "
   ]
  },
  {
   "cell_type": "code",
   "execution_count": 14,
   "id": "286ab46a-bea7-4d7e-84ed-64d5cf9541ba",
   "metadata": {},
   "outputs": [],
   "source": [
    "count = 0\n",
    "\n",
    "for imageName in imagesPathList:\n",
    "    image = cv2.imread(imagesPath+'/'+imageName)\n",
    "    imageAux = image.copy()\n",
    "    gray = cv2.cvtColor(image, cv2.COLOR_BGR2GRAY)\n",
    "    faces = faceClassif.detectMultiScale(gray, 1.1,5)\n",
    "    \n",
    "    for (x,y,w,h) in faces:\n",
    "        cv2.rectangle(image, (x,y),(x+w,y+h),(128,0,255),2)\n",
    "    cv2.rectangle(image,(10,5),(450,25),(255,255,255),-1)\n",
    "    cv2.putText(image,'Presione s, para alamacenar los rostros encontrados',(10,20), 2, 0.5,(128,0,255),1,cv2.LINE_AA)\n",
    "    cv2.imshow('image',image)\n",
    "    k = cv2.waitKey(0)\n",
    "    if  k == ord('s'):\n",
    "        for (x,y,w,h) in faces:\n",
    "            rostro = imageAux[y:y+h,x:x+w]\n",
    "            rostro = cv2.resize(rostro,(150,150), interpolation=cv2.INTER_CUBIC)\n",
    "            #cv2.imshow('rostro',rostro)\n",
    "            #cv2.waitKey(0)\n",
    "            cv2.imwrite('face_detected/rostro_{}.jpg'.format(count),rostro)\n",
    "            count = count +1\n",
    "    elif k == 27:\n",
    "        break\n",
    "cv2.destroyAllWindows()\n",
    "        "
   ]
  },
  {
   "cell_type": "code",
   "execution_count": null,
   "id": "d8a3a92f-ab64-4604-962c-d32920b0b30e",
   "metadata": {},
   "outputs": [],
   "source": []
  }
 ],
 "metadata": {
  "kernelspec": {
   "display_name": "Python 3 (ipykernel)",
   "language": "python",
   "name": "python3"
  },
  "language_info": {
   "codemirror_mode": {
    "name": "ipython",
    "version": 3
   },
   "file_extension": ".py",
   "mimetype": "text/x-python",
   "name": "python",
   "nbconvert_exporter": "python",
   "pygments_lexer": "ipython3",
   "version": "3.8.11"
  }
 },
 "nbformat": 4,
 "nbformat_minor": 5
}
