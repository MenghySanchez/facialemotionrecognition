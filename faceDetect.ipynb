{
 "cells": [
  {
   "cell_type": "code",
   "execution_count": 2,
   "id": "f8e223a5-d0c4-4d93-9f4b-c23f8ff6a120",
   "metadata": {},
   "outputs": [],
   "source": [
    "import cv2\n",
    "import numpy as np"
   ]
  },
  {
   "cell_type": "code",
   "execution_count": 5,
   "id": "7ea3b1d4-7843-44a1-a07c-060690a32c75",
   "metadata": {},
   "outputs": [],
   "source": [
    "cap = cv2.VideoCapture(1) # se establece la variable que obtendra la información del dispositivo de video\n",
    "                        # si tienes mas de 1 camara, debes especificar el numero o id de esta \n",
    "                        # en una laptop el id de la camara integrada es 0 , si tienes una camara adiconal por usb o por internet sera 1 o 2\n",
    "                        # segun el numero de camaras que tengas conectadas en ese momento. \n",
    "\n",
    "faceClassif = cv2.CascadeClassifier('haarcascade_frontalface_default.xml')  # usamos los datos de restros dados por la libreria de opencv\n"
   ]
  },
  {
   "cell_type": "code",
   "execution_count": 6,
   "id": "b7227fc6-58cd-4c9e-b986-95fe6e22923d",
   "metadata": {},
   "outputs": [],
   "source": [
    "while True:\n",
    "    ret,frame = cap.read()                                        # leemos los datos de la camara seleccionada\n",
    "    gray = cv2.cvtColor(frame, cv2.COLOR_BGR2GRAY)                # conversion de la imagen a color a escala de grices\n",
    "\n",
    "    faces = faceClassif.detectMultiScale(gray, 1.3, 5)            # redimencionamos la imagen \n",
    "\n",
    "    for (x,y,w,h) in faces:\n",
    "        cv2.rectangle(frame, (x,y),(x+w,y+h),(0,255,0),2)         # en este caso como estamos extrayendo los rostros de un video va dentro de un bucle\n",
    "                                                                  # en donde el rostro sera enmarcado en un rectangulo\n",
    "    cv2.imshow('frame',frame)                                     # mostramos el objeto con el rectangulo\n",
    "    \n",
    "    if cv2.waitKey(1) & 0xFF == ord('q'):                         # el video en vivo, se termina al presionar la letra \"q\"\n",
    "        break                                                     # roptura del proceso  \n",
    "        \n",
    "cap.release()\n",
    "cv2.destroyAllWindows()                                           # destrucción o finalización de la ventana de imagen \n",
    "    "
   ]
  },
  {
   "cell_type": "code",
   "execution_count": null,
   "id": "da13765b-938b-4a98-a335-4bd026360f23",
   "metadata": {},
   "outputs": [],
   "source": []
  }
 ],
 "metadata": {
  "kernelspec": {
   "display_name": "Python 3 (ipykernel)",
   "language": "python",
   "name": "python3"
  },
  "language_info": {
   "codemirror_mode": {
    "name": "ipython",
    "version": 3
   },
   "file_extension": ".py",
   "mimetype": "text/x-python",
   "name": "python",
   "nbconvert_exporter": "python",
   "pygments_lexer": "ipython3",
   "version": "3.8.11"
  }
 },
 "nbformat": 4,
 "nbformat_minor": 5
}
