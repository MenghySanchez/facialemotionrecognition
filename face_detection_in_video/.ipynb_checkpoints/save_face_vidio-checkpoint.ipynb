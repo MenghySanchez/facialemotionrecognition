{
 "cells": [
  {
   "cell_type": "code",
   "execution_count": 2,
   "id": "c75685e1-71e1-4f9e-a9ff-7afcbab93faf",
   "metadata": {},
   "outputs": [],
   "source": [
    "import cv2 # importamos la libreria de opencv\n",
    "import os  # importamos la libreria para manejar directorios"
   ]
  },
  {
   "cell_type": "code",
   "execution_count": 3,
   "id": "654eae69-ad0a-4a37-9df1-4ecb8cabcc30",
   "metadata": {},
   "outputs": [
    {
     "name": "stdout",
     "output_type": "stream",
     "text": [
      "Carpeta creada: Rostros encontrados\n"
     ]
    }
   ],
   "source": [
    "if not os.path.exists('Rostros encontrados'):         # preguntamos si existe una carpeta o no con el nombre ''\n",
    "    print('Carpeta creada: Rostros encontrados')\n",
    "    os.makedirs('Rostros encontrados')                # creamos la carpeta donde se guardaran las imagenes de los rostros."
   ]
  },
  {
   "cell_type": "code",
   "execution_count": 4,
   "id": "4e04f599-88bf-4e2b-a72c-e9a92693bfee",
   "metadata": {},
   "outputs": [],
   "source": [
    "cap = cv2.VideoCapture('personas.mp4')    # llamar a la lectura del video "
   ]
  },
  {
   "cell_type": "code",
   "execution_count": 5,
   "id": "12e9b7d1-3479-492d-b393-20b2b0cebe9d",
   "metadata": {},
   "outputs": [],
   "source": [
    "faceClassif = cv2.CascadeClassifier('haarcascade_frontalface_default.xml') # llamo a los datos de rostro para poder identificar"
   ]
  },
  {
   "cell_type": "code",
   "execution_count": 6,
   "id": "69194473-c731-4a1b-9b5b-dadb0d014f3f",
   "metadata": {},
   "outputs": [],
   "source": [
    "count = 0\n",
    "while True:\n",
    "    ret,frame = cap.read()\n",
    "    frame = cv2.flip(frame,1)\n",
    "    gray = cv2.cvtColor(frame, cv2.COLOR_BGR2GRAY)\n",
    "    auxFrame = frame.copy()\n",
    "    faces = faceClassif.detectMultiScale(gray, 1.3, 5)\n",
    "    k = cv2.waitKey(1)\n",
    "    if k == 27:\n",
    "        break\n",
    "    for (x,y,w,h) in faces:\n",
    "        cv2.rectangle(frame, (x,y),(x+w,y+h),(128,0,255),2)\n",
    "        rostro = auxFrame[y:y+h,x:x+w]\n",
    "        rostro = cv2.resize(rostro,(150,150), interpolation=cv2.INTER_CUBIC)\n",
    "        if k == ord('s'):\n",
    "            cv2.imwrite('Rostros encontrados/rostro_{}.jpg'.format(count),rostro)\n",
    "            cv2.imshow('rostro',rostro)\n",
    "            count = count +1\n",
    "    cv2.rectangle(frame,(10,5),(450,25),(255,255,255),-1)\n",
    "    cv2.putText(frame,'Presione s, para almacenar los rostros encontrados',(10,20), 2, 0.5,(128,0,255),1,cv2.LINE_AA)\n",
    "    cv2.imshow('frame',frame)\n",
    "cap.release()\n",
    "cv2.destroyAllWindows()"
   ]
  },
  {
   "cell_type": "code",
   "execution_count": null,
   "id": "e879ccbf-1e3b-4ea8-8096-71ace9096d79",
   "metadata": {},
   "outputs": [],
   "source": []
  }
 ],
 "metadata": {
  "kernelspec": {
   "display_name": "Python 3 (ipykernel)",
   "language": "python",
   "name": "python3"
  },
  "language_info": {
   "codemirror_mode": {
    "name": "ipython",
    "version": 3
   },
   "file_extension": ".py",
   "mimetype": "text/x-python",
   "name": "python",
   "nbconvert_exporter": "python",
   "pygments_lexer": "ipython3",
   "version": "3.8.11"
  }
 },
 "nbformat": 4,
 "nbformat_minor": 5
}
